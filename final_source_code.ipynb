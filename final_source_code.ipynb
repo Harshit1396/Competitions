{
 "cells": [
  {
   "cell_type": "code",
   "execution_count": 88,
   "metadata": {},
   "outputs": [],
   "source": [
    "import pandas as pd\n",
    "import numpy as np\n",
    "import matplotlib.pyplot as plt\n",
    "import pickle\n",
    "import time\n",
    "import sys "
   ]
  },
  {
   "cell_type": "code",
   "execution_count": 51,
   "metadata": {},
   "outputs": [],
   "source": [
    "# data loading\n",
    "train = pd.read_csv('train.csv')\n",
    "test = pd.read_csv('test.csv')\n",
    "pro_ex = pd.read_csv('promotional_expense.csv')\n",
    "hol_details = pd.read_excel('holidays.xlsx')"
   ]
  },
  {
   "cell_type": "code",
   "execution_count": 52,
   "metadata": {},
   "outputs": [],
   "source": [
    "# Making train data on Month level\n",
    "trainee = train.groupby(['Year','Month','Product_ID','Country']).Sales.sum().reset_index()"
   ]
  },
  {
   "cell_type": "markdown",
   "metadata": {},
   "source": [
    "<h2>Expenses Info</h2>"
   ]
  },
  {
   "cell_type": "code",
   "execution_count": 53,
   "metadata": {},
   "outputs": [],
   "source": [
    "# Assuming Product Type equal to Product_ID\n",
    "# Converting Product_Type to Product_ID\n",
    "pro_ex.columns = ['Year','Month','Country','Product_ID','Expense_Price']"
   ]
  },
  {
   "cell_type": "code",
   "execution_count": 54,
   "metadata": {},
   "outputs": [],
   "source": [
    "# Merging with expenses\n",
    "train_d = trainee.merge(pro_ex,how = 'left',on = ['Year','Month','Product_ID','Country'])\n",
    "test_d = test.merge(pro_ex,how = 'left',on = ['Year','Month','Product_ID','Country'])"
   ]
  },
  {
   "cell_type": "code",
   "execution_count": 55,
   "metadata": {},
   "outputs": [
    {
     "data": {
      "text/html": [
       "<div>\n",
       "<style scoped>\n",
       "    .dataframe tbody tr th:only-of-type {\n",
       "        vertical-align: middle;\n",
       "    }\n",
       "\n",
       "    .dataframe tbody tr th {\n",
       "        vertical-align: top;\n",
       "    }\n",
       "\n",
       "    .dataframe thead th {\n",
       "        text-align: right;\n",
       "    }\n",
       "</style>\n",
       "<table border=\"1\" class=\"dataframe\">\n",
       "  <thead>\n",
       "    <tr style=\"text-align: right;\">\n",
       "      <th></th>\n",
       "      <th>Year</th>\n",
       "      <th>Month</th>\n",
       "      <th>Product_ID</th>\n",
       "      <th>Country</th>\n",
       "      <th>Sales</th>\n",
       "      <th>Expense_Price</th>\n",
       "    </tr>\n",
       "  </thead>\n",
       "  <tbody>\n",
       "    <tr>\n",
       "      <th>0</th>\n",
       "      <td>2013</td>\n",
       "      <td>1</td>\n",
       "      <td>1</td>\n",
       "      <td>Argentina</td>\n",
       "      <td>34346025.00</td>\n",
       "      <td>14749.307</td>\n",
       "    </tr>\n",
       "    <tr>\n",
       "      <th>2</th>\n",
       "      <td>2013</td>\n",
       "      <td>1</td>\n",
       "      <td>2</td>\n",
       "      <td>Argentina</td>\n",
       "      <td>2751851.48</td>\n",
       "      <td>1329.374</td>\n",
       "    </tr>\n",
       "    <tr>\n",
       "      <th>108</th>\n",
       "      <td>2014</td>\n",
       "      <td>1</td>\n",
       "      <td>1</td>\n",
       "      <td>Argentina</td>\n",
       "      <td>44600850.00</td>\n",
       "      <td>15316.880</td>\n",
       "    </tr>\n",
       "    <tr>\n",
       "      <th>110</th>\n",
       "      <td>2014</td>\n",
       "      <td>1</td>\n",
       "      <td>2</td>\n",
       "      <td>Argentina</td>\n",
       "      <td>4821701.64</td>\n",
       "      <td>2218.769</td>\n",
       "    </tr>\n",
       "    <tr>\n",
       "      <th>220</th>\n",
       "      <td>2015</td>\n",
       "      <td>1</td>\n",
       "      <td>1</td>\n",
       "      <td>Argentina</td>\n",
       "      <td>46580625.00</td>\n",
       "      <td>16242.659</td>\n",
       "    </tr>\n",
       "    <tr>\n",
       "      <th>222</th>\n",
       "      <td>2015</td>\n",
       "      <td>1</td>\n",
       "      <td>2</td>\n",
       "      <td>Argentina</td>\n",
       "      <td>5899549.88</td>\n",
       "      <td>2612.940</td>\n",
       "    </tr>\n",
       "    <tr>\n",
       "      <th>226</th>\n",
       "      <td>2015</td>\n",
       "      <td>1</td>\n",
       "      <td>3</td>\n",
       "      <td>Argentina</td>\n",
       "      <td>126000.00</td>\n",
       "      <td>NaN</td>\n",
       "    </tr>\n",
       "    <tr>\n",
       "      <th>346</th>\n",
       "      <td>2016</td>\n",
       "      <td>1</td>\n",
       "      <td>1</td>\n",
       "      <td>Argentina</td>\n",
       "      <td>14740425.00</td>\n",
       "      <td>10215.226</td>\n",
       "    </tr>\n",
       "    <tr>\n",
       "      <th>348</th>\n",
       "      <td>2016</td>\n",
       "      <td>1</td>\n",
       "      <td>2</td>\n",
       "      <td>Argentina</td>\n",
       "      <td>7535399.20</td>\n",
       "      <td>3274.259</td>\n",
       "    </tr>\n",
       "    <tr>\n",
       "      <th>352</th>\n",
       "      <td>2016</td>\n",
       "      <td>1</td>\n",
       "      <td>3</td>\n",
       "      <td>Argentina</td>\n",
       "      <td>17375400.00</td>\n",
       "      <td>NaN</td>\n",
       "    </tr>\n",
       "  </tbody>\n",
       "</table>\n",
       "</div>"
      ],
      "text/plain": [
       "     Year  Month  Product_ID    Country        Sales  Expense_Price\n",
       "0    2013      1           1  Argentina  34346025.00      14749.307\n",
       "2    2013      1           2  Argentina   2751851.48       1329.374\n",
       "108  2014      1           1  Argentina  44600850.00      15316.880\n",
       "110  2014      1           2  Argentina   4821701.64       2218.769\n",
       "220  2015      1           1  Argentina  46580625.00      16242.659\n",
       "222  2015      1           2  Argentina   5899549.88       2612.940\n",
       "226  2015      1           3  Argentina    126000.00            NaN\n",
       "346  2016      1           1  Argentina  14740425.00      10215.226\n",
       "348  2016      1           2  Argentina   7535399.20       3274.259\n",
       "352  2016      1           3  Argentina  17375400.00            NaN"
      ]
     },
     "execution_count": 55,
     "metadata": {},
     "output_type": "execute_result"
    }
   ],
   "source": [
    "train_d[(train_d['Country'] == 'Argentina') & (train_d['Month'] == 1)]"
   ]
  },
  {
   "cell_type": "markdown",
   "metadata": {},
   "source": [
    "So it is simply clear that Expenses for product_ID 3 is not given. so we need to impute missing values."
   ]
  },
  {
   "cell_type": "code",
   "execution_count": 57,
   "metadata": {},
   "outputs": [],
   "source": [
    "# Impute Mean of expenses in particular month of particular country in place of missing values\n",
    "info = train_d.groupby(['Country','Month']).Expense_Price.mean().reset_index()\n",
    "\n",
    "# Dealing with missing values\n",
    "info_train = train_d.merge(info,how = 'left',on = ['Month','Country'])\n",
    "model = info_train['Expense_Price_x'].isnull()\n",
    "info_train.loc[model,'Expense_Price_x'] = info_train.loc[model,'Expense_Price_y']\n",
    "\n",
    "info_test = test_d.merge(info,how = 'left',on = ['Month','Country'])\n",
    "model = info_test['Expense_Price_x'].isnull()\n",
    "info_test.loc[model,'Expense_Price_x'] = info_test.loc[model,'Expense_Price_y']"
   ]
  },
  {
   "cell_type": "code",
   "execution_count": 58,
   "metadata": {},
   "outputs": [],
   "source": [
    "# dropping y_component of Expenses\n",
    "info_train.drop(['Expense_Price_y'],axis = 1,inplace = True)\n",
    "info_test.drop(['Expense_Price_y'],axis = 1,inplace = True)"
   ]
  },
  {
   "cell_type": "markdown",
   "metadata": {},
   "source": [
    "<h2>Holidays Info</h2>"
   ]
  },
  {
   "cell_type": "code",
   "execution_count": 59,
   "metadata": {},
   "outputs": [],
   "source": [
    "# Extracting Year from DATE\n",
    "hol_details['Year'] = hol_details['Date'].str.split(expand = True)[0].str[0:4]\n",
    "\n",
    "# Extracting Month from DATE\n",
    "hol_details['Month'] = hol_details['Date'].str.split(expand = True)[1].str[:-1]\n",
    "\n",
    "# Making new feature to determine the number of holidays per Month in respective countries\n",
    "hol_details = hol_details.groupby(['Country','Year','Month']).Date.agg('count').reset_index()\n",
    "\n",
    "# Renaming Columns\n",
    "hol_details.columns = ['Country', 'Year', 'Month', 'No_of_holidays']"
   ]
  },
  {
   "cell_type": "code",
   "execution_count": 60,
   "metadata": {},
   "outputs": [],
   "source": [
    "# Merging hol_details\n",
    "hol_details['Year'] = hol_details['Year'].astype('int64')\n",
    "hol_details['Month'] = hol_details['Month'].astype('int64')\n",
    "\n",
    "info_train = info_train.merge(hol_details,how = 'left',on = ['Country','Year','Month'])\n",
    "# Imputing zero in place of missing value assuming no holidays in these months\n",
    "info_train.fillna(0,inplace = True)\n",
    "\n",
    "info_test = info_test.merge(hol_details,how = 'left',on = ['Country','Year','Month'])\n",
    "# Imputing zero in place of missing value assuming no holidays in these months\n",
    "info_test.fillna(0,inplace = True)"
   ]
  },
  {
   "cell_type": "code",
   "execution_count": 61,
   "metadata": {
    "scrolled": true
   },
   "outputs": [],
   "source": [
    "info_train.sort_values(['Country','Product_ID'],inplace = True)"
   ]
  },
  {
   "cell_type": "markdown",
   "metadata": {},
   "source": [
    "<h1>Visualization</h1>"
   ]
  },
  {
   "cell_type": "code",
   "execution_count": 62,
   "metadata": {},
   "outputs": [
    {
     "data": {
      "text/html": [
       "<div>\n",
       "<style scoped>\n",
       "    .dataframe tbody tr th:only-of-type {\n",
       "        vertical-align: middle;\n",
       "    }\n",
       "\n",
       "    .dataframe tbody tr th {\n",
       "        vertical-align: top;\n",
       "    }\n",
       "\n",
       "    .dataframe thead th {\n",
       "        text-align: right;\n",
       "    }\n",
       "</style>\n",
       "<table border=\"1\" class=\"dataframe\">\n",
       "  <thead>\n",
       "    <tr style=\"text-align: right;\">\n",
       "      <th></th>\n",
       "      <th>Year</th>\n",
       "      <th>Month</th>\n",
       "      <th>Product_ID</th>\n",
       "      <th>Sales</th>\n",
       "      <th>Expense_Price_x</th>\n",
       "      <th>No_of_holidays</th>\n",
       "    </tr>\n",
       "  </thead>\n",
       "  <tbody>\n",
       "    <tr>\n",
       "      <th>Year</th>\n",
       "      <td>1.000000</td>\n",
       "      <td>-0.125730</td>\n",
       "      <td>-0.020647</td>\n",
       "      <td>0.024104</td>\n",
       "      <td>0.050131</td>\n",
       "      <td>0.090912</td>\n",
       "    </tr>\n",
       "    <tr>\n",
       "      <th>Month</th>\n",
       "      <td>-0.125730</td>\n",
       "      <td>1.000000</td>\n",
       "      <td>0.014924</td>\n",
       "      <td>0.010762</td>\n",
       "      <td>0.011035</td>\n",
       "      <td>-0.096847</td>\n",
       "    </tr>\n",
       "    <tr>\n",
       "      <th>Product_ID</th>\n",
       "      <td>-0.020647</td>\n",
       "      <td>0.014924</td>\n",
       "      <td>1.000000</td>\n",
       "      <td>-0.196632</td>\n",
       "      <td>-0.261317</td>\n",
       "      <td>-0.198979</td>\n",
       "    </tr>\n",
       "    <tr>\n",
       "      <th>Sales</th>\n",
       "      <td>0.024104</td>\n",
       "      <td>0.010762</td>\n",
       "      <td>-0.196632</td>\n",
       "      <td>1.000000</td>\n",
       "      <td>0.973985</td>\n",
       "      <td>-0.029045</td>\n",
       "    </tr>\n",
       "    <tr>\n",
       "      <th>Expense_Price_x</th>\n",
       "      <td>0.050131</td>\n",
       "      <td>0.011035</td>\n",
       "      <td>-0.261317</td>\n",
       "      <td>0.973985</td>\n",
       "      <td>1.000000</td>\n",
       "      <td>-0.021206</td>\n",
       "    </tr>\n",
       "    <tr>\n",
       "      <th>No_of_holidays</th>\n",
       "      <td>0.090912</td>\n",
       "      <td>-0.096847</td>\n",
       "      <td>-0.198979</td>\n",
       "      <td>-0.029045</td>\n",
       "      <td>-0.021206</td>\n",
       "      <td>1.000000</td>\n",
       "    </tr>\n",
       "  </tbody>\n",
       "</table>\n",
       "</div>"
      ],
      "text/plain": [
       "                     Year     Month  Product_ID     Sales  Expense_Price_x  \\\n",
       "Year             1.000000 -0.125730   -0.020647  0.024104         0.050131   \n",
       "Month           -0.125730  1.000000    0.014924  0.010762         0.011035   \n",
       "Product_ID      -0.020647  0.014924    1.000000 -0.196632        -0.261317   \n",
       "Sales            0.024104  0.010762   -0.196632  1.000000         0.973985   \n",
       "Expense_Price_x  0.050131  0.011035   -0.261317  0.973985         1.000000   \n",
       "No_of_holidays   0.090912 -0.096847   -0.198979 -0.029045        -0.021206   \n",
       "\n",
       "                 No_of_holidays  \n",
       "Year                   0.090912  \n",
       "Month                 -0.096847  \n",
       "Product_ID            -0.198979  \n",
       "Sales                 -0.029045  \n",
       "Expense_Price_x       -0.021206  \n",
       "No_of_holidays         1.000000  "
      ]
     },
     "execution_count": 62,
     "metadata": {},
     "output_type": "execute_result"
    }
   ],
   "source": [
    "info_train.corr()"
   ]
  },
  {
   "cell_type": "code",
   "execution_count": 63,
   "metadata": {},
   "outputs": [
    {
     "data": {
      "text/plain": [
       "Text(0,0.5,'Sales')"
      ]
     },
     "execution_count": 63,
     "metadata": {},
     "output_type": "execute_result"
    },
    {
     "data": {
      "image/png": "[encoded data removed]",
      "text/plain": [
       "<Figure size 576x432 with 1 Axes>"
      ]
     },
     "metadata": {},
     "output_type": "display_data"
    }
   ],
   "source": [
    "plt.figure(figsize=(8,6))\n",
    "plt.plot(info_train['Expense_Price_x'],info_train['Sales'],'ro')\n",
    "plt.xlabel('Expense_Price')\n",
    "plt.ylabel('Sales')"
   ]
  },
  {
   "cell_type": "code",
   "execution_count": null,
   "metadata": {},
   "outputs": [],
   "source": [
    "# This would not be very fruitfull as Sales of all countries are given in local currency\n",
    "info_train.boxplot(column='Sales', by = 'Year')\n",
    "info_train.boxplot(column='Sales', by = 'Product_ID')\n",
    "info_train.boxplot(column='Sales', by = 'Country')\n",
    "info_train.boxplot(column='Sales', by = 'Month')"
   ]
  },
  {
   "cell_type": "code",
   "execution_count": 65,
   "metadata": {},
   "outputs": [],
   "source": [
    "temp = info_train.pivot_table(values = 'Sales', columns= 'Product_ID', index='Country', aggfunc= 'sum')"
   ]
  },
  {
   "cell_type": "code",
   "execution_count": null,
   "metadata": {},
   "outputs": [],
   "source": [
    "temp.plot(kind = 'bar',figsize=(9,5), sharey = True)"
   ]
  },
  {
   "cell_type": "markdown",
   "metadata": {},
   "source": [
    "So Argentina and Columbia dealt with Product_ID - 1,2,3 & Belgium and Denmark dealt with Product_ID - 2 & England - 4,5 & Finland - 4"
   ]
  },
  {
   "cell_type": "code",
   "execution_count": 67,
   "metadata": {},
   "outputs": [],
   "source": [
    "# As we have Sales data of countries in their respective countries so it's better to visualize them independently\n",
    "# splitting train and test data on the basis of countries\n",
    "train_ar = info_train[info_train['Country'] == 'Argentina']\n",
    "train_be = info_train[info_train['Country'] == 'Belgium']\n",
    "train_co = info_train[info_train['Country'] == 'Columbia']\n",
    "train_de = info_train[info_train['Country'] == 'Denmark']\n",
    "train_en = info_train[info_train['Country'] == 'England']\n",
    "train_fi = info_train[info_train['Country'] == 'Finland']\n",
    "\n",
    "test_ar = info_test[info_test['Country'] == 'Argentina']\n",
    "test_be = info_test[info_test['Country'] == 'Belgium']\n",
    "test_co = info_test[info_test['Country'] == 'Columbia']\n",
    "test_de = info_test[info_test['Country'] == 'Denmark']\n",
    "test_en = info_test[info_test['Country'] == 'England']\n",
    "test_fi = info_test[info_test['Country'] == 'Finland']"
   ]
  },
  {
   "cell_type": "code",
   "execution_count": 68,
   "metadata": {},
   "outputs": [
    {
     "data": {
      "text/plain": [
       "array(['Argentina', 'Belgium', 'Columbia', 'Denmark', 'England',\n",
       "       'Finland'], dtype=object)"
      ]
     },
     "execution_count": 68,
     "metadata": {},
     "output_type": "execute_result"
    }
   ],
   "source": [
    "info_train['Country'].unique()"
   ]
  },
  {
   "cell_type": "code",
   "execution_count": null,
   "metadata": {},
   "outputs": [],
   "source": [
    "for i,j in zip([train_ar,train_be,train_co,train_de,train_en,train_fi],['Argentina', 'Belgium', 'Columbia', 'Denmark', 'England','Finland']):\n",
    "    print(j)\n",
    "    i.groupby(['Product_ID']).Sales.sum().plot(kind='bar')\n",
    "    plt.title(j)\n",
    "    plt.show()"
   ]
  },
  {
   "cell_type": "code",
   "execution_count": 70,
   "metadata": {},
   "outputs": [
    {
     "name": "stderr",
     "output_type": "stream",
     "text": [
      "C:\\Users\\Akhand\\Anaconda3\\lib\\site-packages\\ipykernel_launcher.py:2: SettingWithCopyWarning: \n",
      "A value is trying to be set on a copy of a slice from a DataFrame.\n",
      "Try using .loc[row_indexer,col_indexer] = value instead\n",
      "\n",
      "See the caveats in the documentation: http://pandas.pydata.org/pandas-docs/stable/indexing.html#indexing-view-versus-copy\n",
      "  \n",
      "C:\\Users\\Akhand\\Anaconda3\\lib\\site-packages\\ipykernel_launcher.py:3: SettingWithCopyWarning: \n",
      "A value is trying to be set on a copy of a slice from a DataFrame.\n",
      "Try using .loc[row_indexer,col_indexer] = value instead\n",
      "\n",
      "See the caveats in the documentation: http://pandas.pydata.org/pandas-docs/stable/indexing.html#indexing-view-versus-copy\n",
      "  This is separate from the ipykernel package so we can avoid doing imports until\n"
     ]
    }
   ],
   "source": [
    "for i,j in zip([train_ar,train_be,train_co,train_de,train_en,train_fi],[test_ar,test_be,test_co,test_de,test_en,test_fi]):\n",
    "    i['Date'] = i['Year'].astype(str)+'-'+ i['Month'].astype(str)\n",
    "    j['Date'] = j['Year'].astype(str)+'-'+ j['Month'].astype(str)"
   ]
  },
  {
   "cell_type": "code",
   "execution_count": 71,
   "metadata": {},
   "outputs": [],
   "source": [
    "# Breaking out data on the basis of product_Id\n",
    "train_ar_1 = train_ar[train_ar['Product_ID'] == 1]\n",
    "train_ar_2 = train_ar[train_ar['Product_ID'] == 2]\n",
    "train_ar_3 = train_ar[train_ar['Product_ID'] == 3]\n",
    "train_co_1 = train_co[train_co['Product_ID'] == 1]\n",
    "train_co_2 = train_co[train_co['Product_ID'] == 2]\n",
    "train_co_3 = train_co[train_co['Product_ID'] == 3]\n",
    "train_en_4 = train_en[train_en['Product_ID'] == 4]\n",
    "train_en_5 = train_en[train_en['Product_ID'] == 5]\n",
    "train_be_2 = train_be[train_be['Product_ID'] == 2]\n",
    "train_de_2 = train_de[train_de['Product_ID'] == 2]\n",
    "train_fi_4 = train_fi[train_fi['Product_ID'] == 4]"
   ]
  },
  {
   "cell_type": "code",
   "execution_count": 72,
   "metadata": {},
   "outputs": [],
   "source": [
    "# Breaking out data on the basis of product_Id\n",
    "test_ar_1 = test_ar[test_ar['Product_ID'] == 1]\n",
    "test_ar_2 = test_ar[test_ar['Product_ID'] == 2]\n",
    "test_ar_3 = test_ar[test_ar['Product_ID'] == 3]\n",
    "test_co_1 = test_co[test_co['Product_ID'] == 1]\n",
    "test_co_2 = test_co[test_co['Product_ID'] == 2]\n",
    "test_co_3 = test_co[test_co['Product_ID'] == 3]\n",
    "test_en_4 = test_en[test_en['Product_ID'] == 4]\n",
    "test_en_5 = test_en[test_en['Product_ID'] == 5]\n",
    "test_be_2 = test_be[test_be['Product_ID'] == 2]\n",
    "test_de_2 = test_de[test_de['Product_ID'] == 2]\n",
    "test_fi_4 = test_fi[test_fi['Product_ID'] == 4]"
   ]
  },
  {
   "cell_type": "code",
   "execution_count": 73,
   "metadata": {},
   "outputs": [
    {
     "name": "stdout",
     "output_type": "stream",
     "text": [
      "(39, 8) (12, 9)\n",
      "(39, 8) (12, 9)\n",
      "(24, 8) (3, 9)\n",
      "(39, 8) (12, 9)\n",
      "(39, 8) (12, 9)\n",
      "(39, 8) (12, 9)\n",
      "(28, 8) (3, 9)\n",
      "(39, 8) (12, 9)\n",
      "(34, 8) (9, 9)\n",
      "(34, 8) (9, 9)\n",
      "(34, 8) (9, 9)\n"
     ]
    }
   ],
   "source": [
    "for i,j in zip([train_ar_1,train_ar_2,train_ar_3,train_be_2,train_co_1,train_co_2,train_co_3,train_de_2,train_en_4,train_en_5,train_fi_4],[test_ar_1,test_ar_2,test_ar_3,test_be_2,test_co_1,test_co_2,test_co_3,test_de_2,test_en_4,test_en_5,test_fi_4]):\n",
    "    print(i.shape,j.shape)"
   ]
  },
  {
   "cell_type": "code",
   "execution_count": null,
   "metadata": {},
   "outputs": [],
   "source": [
    "# Time series plot \n",
    "for data,name in zip([train_ar_1,train_ar_2,train_ar_3,train_co_1,train_co_2,train_co_3,train_en_4,train_en_5,train_be_2,train_de_2,train_fi_4],['train_ar_1','train_ar_2','train_ar_3','train_co_1','train_co_2','train_co_3','train_en_4','train_en_5','train_be_2','train_de_2','train_fi_4']):\n",
    "    print(name)\n",
    "    plt.figure(num=None, figsize=(30, 10), dpi=80, facecolor='w', edgecolor='k')\n",
    "    plt.plot(data['Date'],data['Sales'])\n",
    "    plt.show()"
   ]
  },
  {
   "cell_type": "code",
   "execution_count": null,
   "metadata": {},
   "outputs": [],
   "source": [
    "# Autocorrelation\n",
    "for data,name in zip([train_ar_1,train_ar_2,train_ar_3,train_co_1,train_co_2,train_co_3,train_en_4,train_en_5,train_be_2,train_de_2,train_fi_4],['train_ar_1','train_ar_2','train_ar_3','train_co_1','train_co_2','train_co_3','train_en_4','train_en_5','train_be_2','train_de_2','train_fi_4']):\n",
    "    print(name)\n",
    "    plt.figure(num=None, figsize=(10, 6), dpi=80, facecolor='w', edgecolor='k')\n",
    "    from pandas.tools.plotting import autocorrelation_plot\n",
    "    autocorrelation_plot(data['Sales'])\n",
    "    plt.show()"
   ]
  },
  {
   "cell_type": "markdown",
   "metadata": {},
   "source": [
    "<h2>Modelling ARIMA model</h2>"
   ]
  },
  {
   "cell_type": "code",
   "execution_count": 76,
   "metadata": {},
   "outputs": [
    {
     "name": "stderr",
     "output_type": "stream",
     "text": [
      "C:\\Users\\Akhand\\Anaconda3\\lib\\site-packages\\ipykernel_launcher.py:25: SettingWithCopyWarning: \n",
      "A value is trying to be set on a copy of a slice from a DataFrame.\n",
      "Try using .loc[row_indexer,col_indexer] = value instead\n",
      "\n",
      "See the caveats in the documentation: http://pandas.pydata.org/pandas-docs/stable/indexing.html#indexing-view-versus-copy\n",
      "C:\\Users\\Akhand\\Anaconda3\\lib\\site-packages\\ipykernel_launcher.py:26: SettingWithCopyWarning: \n",
      "A value is trying to be set on a copy of a slice from a DataFrame.\n",
      "Try using .loc[row_indexer,col_indexer] = value instead\n",
      "\n",
      "See the caveats in the documentation: http://pandas.pydata.org/pandas-docs/stable/indexing.html#indexing-view-versus-copy\n"
     ]
    }
   ],
   "source": [
    "from pandas import read_csv\n",
    "from pandas import datetime\n",
    "from matplotlib import pyplot\n",
    "from statsmodels.tsa.arima_model import ARIMA\n",
    "from sklearn.metrics import mean_squared_error\n",
    "\n",
    "for i,j in zip([train_ar_1,train_ar_2,train_ar_3,train_co_1,train_co_2,train_co_3,train_en_4,train_en_5,train_fi_4],[test_ar_1,test_ar_2,test_ar_3,test_co_1,test_co_2,test_co_3,test_en_4,test_en_5,test_fi_4]):\n",
    "    info1 = i[['Date','Sales']]\n",
    "    info2 = j[['Date']]\n",
    "    trains = info1.iloc[:,1].values\n",
    "    # tests = test_ar_1.iloc[:,1]\n",
    "    # size = int(len(X) * 0.66)\n",
    "    # train, test = X[0:size], X[size:len(X)]\n",
    "    history = [x for x in trains]\n",
    "    predictions = list()\n",
    "    for t in range(len(info2)):\n",
    "        model = ARIMA(history, order=(5,1,0))\n",
    "        model_fit = model.fit(disp=0)\n",
    "        output = model_fit.forecast()\n",
    "        yhat = output[0]\n",
    "        predictions.append(yhat)\n",
    "    #     obs = test[t]\n",
    "        history.append(yhat)\n",
    "#         print(yhat)\n",
    "    j['Sales'] = list(predictions)\n",
    "    j['Sales'] = j['Sales'].astype(int)"
   ]
  },
  {
   "cell_type": "code",
   "execution_count": 77,
   "metadata": {},
   "outputs": [],
   "source": [
    "for i,j in zip([train_be_2,train_de_2],[test_be_2,test_de_2]):\n",
    "    info1 = i[['Date','Sales']]\n",
    "    info2 = j[['Date']]\n",
    "    trains = info1.iloc[:,1].values\n",
    "    # tests = test_ar_1.iloc[:,1]\n",
    "    # size = int(len(X) * 0.66)\n",
    "    # train, test = X[0:size], X[size:len(X)]\n",
    "    history = [x for x in trains]\n",
    "    predictions = list()\n",
    "    for t in range(len(info2)):\n",
    "        model = ARIMA(history, order=(5,0,0))\n",
    "        model_fit = model.fit(disp=0)\n",
    "        output = model_fit.forecast()\n",
    "        yhat = output[0]\n",
    "        predictions.append(yhat)\n",
    "    #     obs = test[t]\n",
    "        history.append(yhat)\n",
    "#         print(yhat)\n",
    "    j['Sales'] = list(predictions)\n",
    "    j['Sales'] = j['Sales'].astype(int)"
   ]
  },
  {
   "cell_type": "code",
   "execution_count": 78,
   "metadata": {},
   "outputs": [],
   "source": [
    "final = pd.concat([test_ar_1,test_ar_2,test_ar_3,test_be_2,test_co_1,test_co_2,test_co_3,test_de_2,test_en_4,test_en_5,test_fi_4])"
   ]
  },
  {
   "cell_type": "code",
   "execution_count": 79,
   "metadata": {
    "scrolled": true
   },
   "outputs": [],
   "source": [
    "submission_ARIMA = pd.DataFrame({'S_No':final['S_No'],'Year':final['Year'],'Month':final['Month'],'Product_ID':final['Product_ID'],'Country':final['Country'],'Sales':final['Sales']},columns=['S_No','Year', 'Month', 'Product_ID', 'Country', 'Sales'])\n",
    "submission_ARIMA['Sales'] = submission_ARIMA['Sales'].astype(int)"
   ]
  },
  {
   "cell_type": "markdown",
   "metadata": {},
   "source": [
    "<h1>Regression Model</h1>"
   ]
  },
  {
   "cell_type": "code",
   "execution_count": null,
   "metadata": {},
   "outputs": [],
   "source": [
    "for i,j in zip([train_ar_1,train_ar_2,train_ar_3,train_be_2,train_co_1,train_co_2,train_co_3,train_de_2,train_en_4,train_en_5,train_fi_4],[test_ar_1,test_ar_2,test_ar_3,test_be_2,test_co_1,test_co_2,test_co_3,test_de_2,test_en_4,test_en_5,test_fi_4]):  \n",
    "    X = i[[cols for cols in i if cols not in ['S_No','Product_ID','Sales','Country','Date']]]\n",
    "    Y = i[['Sales']]\n",
    "    from sklearn.linear_model import LinearRegression\n",
    "    model = LinearRegression()\n",
    "    model.fit(X,Y)\n",
    "    predictors = X.columns\n",
    "    coef = pd.Series(model.coef_[0],predictors).sort_values()\n",
    "    plt.figure(num=None, figsize=(5, 5), dpi=80, facecolor='w', edgecolor='k')\n",
    "    coef.plot(kind='bar', title='Model Coefficients')\n",
    "    plt.show()\n",
    "    pred = model.predict(j[[cols for cols in j if cols not in ['S_No','Product_ID','Sales','Country','Date']]])\n",
    "    j['Sales'] = pred"
   ]
  },
  {
   "cell_type": "code",
   "execution_count": 81,
   "metadata": {
    "scrolled": false
   },
   "outputs": [],
   "source": [
    "final = pd.concat([test_ar_1,test_ar_2,test_ar_3,test_be_2,test_co_1,test_co_2,test_co_3,test_de_2,test_en_4,test_en_5,test_fi_4])"
   ]
  },
  {
   "cell_type": "code",
   "execution_count": 82,
   "metadata": {},
   "outputs": [],
   "source": [
    "submission_Reg = pd.DataFrame({'S_No':final['S_No'],'Year':final['Year'],'Month':final['Month'],'Product_ID':final['Product_ID'],'Country':final['Country'],'Sales':final['Sales']},columns=['S_No','Year', 'Month', 'Product_ID', 'Country', 'Sales'])\n",
    "submission_Reg['Sales'] = submission_Reg['Sales'].astype(int)"
   ]
  },
  {
   "cell_type": "markdown",
   "metadata": {},
   "source": [
    "<h1>Ensembling</h1>"
   ]
  },
  {
   "cell_type": "code",
   "execution_count": 83,
   "metadata": {},
   "outputs": [],
   "source": [
    "predo1 = submission_ARIMA['Sales']*0.75\n",
    "predo2 = submission_Reg['Sales']*0.25"
   ]
  },
  {
   "cell_type": "code",
   "execution_count": 84,
   "metadata": {},
   "outputs": [],
   "source": [
    "predo = pd.Series(predo1) + pd.Series(predo2)"
   ]
  },
  {
   "cell_type": "code",
   "execution_count": 85,
   "metadata": {},
   "outputs": [],
   "source": [
    "submission_final = pd.DataFrame({'S_No':final['S_No'],'Year':final['Year'],'Month':final['Month'],'Product_ID':final['Product_ID'],'Country':final['Country'],'Sales':predo.values},columns=['S_No','Year', 'Month', 'Product_ID', 'Country', 'Sales'])\n",
    "submission_final['Sales'] = submission_final['Sales'].astype(int)"
   ]
  },
  {
   "cell_type": "code",
   "execution_count": null,
   "metadata": {},
   "outputs": [],
   "source": [
    "submission_final"
   ]
  },
  {
   "cell_type": "code",
   "execution_count": 87,
   "metadata": {},
   "outputs": [],
   "source": [
    "submission_final.to_csv('final2.csv',index= False)"
   ]
  },
  {
   "cell_type": "code",
   "execution_count": null,
   "metadata": {},
   "outputs": [],
   "source": []
  }
 ],
 "metadata": {
  "kernelspec": {
   "display_name": "Python 3",
   "language": "python",
   "name": "python3"
  },
  "language_info": {
   "codemirror_mode": {
    "name": "ipython",
    "version": 3
   },
   "file_extension": ".py",
   "mimetype": "text/x-python",
   "name": "python",
   "nbconvert_exporter": "python",
   "pygments_lexer": "ipython3",
   "version": "3.6.5"
  }
 },
 "nbformat": 4,
 "nbformat_minor": 2
}
